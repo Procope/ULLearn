{
 "cells": [
  {
   "cell_type": "code",
   "execution_count": 4,
   "metadata": {},
   "outputs": [],
   "source": [
    "with open(\"questions-words.txt\", \"r\") as f_in:\n",
    "    f_out = None\n",
    "    lines = f_in.readlines()\n",
    "    for idx, line in enumerate(lines):\n",
    "        line_split = line.strip().split()\n",
    "\n",
    "        if line_split[0] == ':':\n",
    "            try:\n",
    "                f_out.close()\n",
    "            except:\n",
    "                pass\n",
    "\n",
    "            f_out = open('analogies/{}.txt'.format(line_split[1]), 'w')\n",
    "            continue\n",
    "\n",
    "        print(line, file=f_out, end='')\n",
    "\n",
    "        if idx == len(lines) - 1:\n",
    "            f_out.close()\n"
   ]
  }
 ],
 "metadata": {
  "kernelspec": {
   "display_name": "Python 3",
   "language": "python",
   "name": "python3"
  },
  "language_info": {
   "codemirror_mode": {
    "name": "ipython",
    "version": 3
   },
   "file_extension": ".py",
   "mimetype": "text/x-python",
   "name": "python",
   "nbconvert_exporter": "python",
   "pygments_lexer": "ipython3",
   "version": "3.6.1"
  }
 },
 "nbformat": 4,
 "nbformat_minor": 2
}
